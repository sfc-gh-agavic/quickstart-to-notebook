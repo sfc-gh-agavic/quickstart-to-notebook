{
 "metadata": {
  "language_info": {
   "name": "python"
  },
  "lastEditStatus": {
   "notebookId": "72voer5cb4etevfidumk",
   "authorId": "15462019492",
   "authorName": "JOHN",
   "authorEmail": "aaron.gavic@snowflake.com",
   "sessionId": "e1070069-4e1e-462b-b214-9e3fe23cab97",
   "lastEditTime": 1758007263783
  }
 },
 "nbformat_minor": 2,
 "nbformat": 4,
 "cells": [
  {
   "cell_type": "markdown",
   "id": "ce110000-1111-2222-3333-ffffff000000",
   "metadata": {
    "collapsed": false,
    "name": "SETUP"
   },
   "source": [
    "# Getting Started with Snowflake Dynamic Tables\n",
    "\n",
    "This notebook demonstrates how to build declarative data pipelines using Snowflake Dynamic Tables for continuous data transformations, data validation, and alerting. Dynamic Tables automatically refresh based on defined queries and target freshness, simplifying data pipeline management without manual scheduling.\n",
    "\n",
    "**Original Quickstart:** https://quickstarts.snowflake.com/guide/getting_started_with_dynamic_tables/index.html\n",
    "\n",
    "## Prerequisites\n",
    "- **Packages Required:** The Python UDTFs in this demo use the `Faker` package which is available in Snowflake's Anaconda channel. No additional package installation needed.\n",
    "- **Permissions:** Ensure you have privileges to create databases, schemas, warehouses, tables, and dynamic tables.\n",
    "- **Change Tracking:** Will be automatically enabled on base tables as needed.\n"
   ]
  },
  {
   "cell_type": "code",
   "execution_count": null,
   "id": "ce110000-1111-2222-3333-ffffff000001",
   "metadata": {
    "codeCollapsed": false,
    "collapsed": false,
    "language": "sql",
    "name": "session_context",
    "vscode": {
     "languageId": "snowflake-sql"
    }
   },
   "outputs": [],
   "source": [
    "-- Display current session context and connection information\n",
    "SELECT \n",
    "    CURRENT_DATABASE() as current_database,\n",
    "    CURRENT_SCHEMA() as current_schema,\n",
    "    CURRENT_WAREHOUSE() as current_warehouse,\n",
    "    CURRENT_USER() as current_user,\n",
    "    CURRENT_ROLE() as current_role,\n",
    "    CURRENT_REGION() as current_region;\n"
   ]
  },
  {
   "cell_type": "code",
   "execution_count": null,
   "id": "ce110000-1111-2222-3333-ffffff000002",
   "metadata": {
    "codeCollapsed": false,
    "collapsed": false,
    "language": "sql",
    "name": "setup_environment",
    "vscode": {
     "languageId": "snowflake-sql"
    }
   },
   "outputs": [],
   "source": [
    "-- Set up database, schema, and warehouse for the demo\n",
    "CREATE DATABASE IF NOT EXISTS DEMO;\n",
    "CREATE SCHEMA IF NOT EXISTS DEMO.DT_DEMO;\n",
    "USE SCHEMA DEMO.DT_DEMO;\n",
    "\n",
    "CREATE WAREHOUSE IF NOT EXISTS XSMALL_WH \n",
    "    WAREHOUSE_TYPE = STANDARD\n",
    "    WAREHOUSE_SIZE = XSMALL\n",
    "    AUTO_SUSPEND = 300\n",
    "    AUTO_RESUME = TRUE;\n"
   ]
  },
  {
   "cell_type": "markdown",
   "id": "ce110000-1111-2222-3333-ffffff000003",
   "metadata": {
    "collapsed": false,
    "name": "DATA_GENERATION"
   },
   "source": [
    "## Sample Data Generation\n",
    "\n",
    "We'll create three source tables using Python UDTFs to generate realistic sample data:\n",
    "1. **CUST_INFO** - Customer information with spending limits\n",
    "2. **PROD_STOCK_INV** - Product inventory with stock levels\n",
    "3. **SALESDATA** - Raw sales transactions in JSON format\n"
   ]
  },
  {
   "cell_type": "code",
   "execution_count": null,
   "id": "ce110000-1111-2222-3333-ffffff000004",
   "metadata": {
    "codeCollapsed": false,
    "collapsed": false,
    "language": "sql",
    "name": "fxn_gen_customers",
    "vscode": {
     "languageId": "snowflake-sql"
    }
   },
   "outputs": [],
   "source": [
    "-- Create Python UDTF to generate customer information data\n",
    "CREATE OR REPLACE FUNCTION gen_cust_info(num_records number)\n",
    "RETURNS TABLE (custid number(10), cname varchar(100), spendlimit number(10,2))\n",
    "LANGUAGE PYTHON\n",
    "RUNTIME_VERSION=3.10\n",
    "HANDLER='CustTab'\n",
    "PACKAGES = ('Faker')\n",
    "AS $$\n",
    "from faker import Faker\n",
    "import random\n",
    "\n",
    "fake = Faker()\n",
    "# Generate a list of customers  \n",
    "\n",
    "class CustTab:\n",
    "    # Generate multiple customer records\n",
    "    def process(self, num_records):\n",
    "        customer_id = 1000 # Starting customer ID                 \n",
    "        for _ in range(num_records):\n",
    "            custid = customer_id + 1\n",
    "            cname = fake.name()\n",
    "            spendlimit = round(random.uniform(1000, 10000),2)\n",
    "            customer_id += 1\n",
    "            yield (custid,cname,spendlimit)\n",
    "$$;\n",
    "\n",
    "\n"
   ]
  },
  {
   "cell_type": "code",
   "execution_count": null,
   "id": "ce110000-1111-2222-3333-ffffff000005",
   "metadata": {
    "codeCollapsed": false,
    "collapsed": false,
    "language": "sql",
    "name": "fxn_gen_inventory",
    "vscode": {
     "languageId": "snowflake-sql"
    }
   },
   "outputs": [],
   "source": [
    "-- Create Python UDTF to generate product inventory data\n",
    "--DROP FUNCTION gen_prod_inv() ;\n",
    "CREATE OR REPLACE FUNCTION gen_prod_inv()\n",
    "RETURNS TABLE (product_id number(10), pname varchar(100), stock number(10,2), stockdate date)\n",
    "LANGUAGE PYTHON\n",
    "RUNTIME_VERSION=3.10\n",
    "HANDLER='ProdTab'\n",
    "PACKAGES = ('Faker')\n",
    "AS $$\n",
    "from faker import Faker\n",
    "import random\n",
    "from datetime import datetime, timedelta\n",
    "fake = Faker()\n",
    "\n",
    "class ProdTab:\n",
    "    # Generate multiple product records\n",
    "    def process(self):\n",
    "        product_id = 100 # initialize product_id                 \n",
    "        for _ in range(100):\n",
    "            product_id += 1\n",
    "            pname = fake.catch_phrase()\n",
    "            stock = round(random.uniform(500, 1000),0)\n",
    "            # Get the current date\n",
    "            current_date = datetime.now()\n",
    "            \n",
    "            # Calculate the maximum date (3 months from now)\n",
    "            min_date = current_date - timedelta(days=90)\n",
    "            \n",
    "            # Generate a random date within the date range\n",
    "            stockdate = fake.date_between_dates(min_date,current_date)\n",
    "            \n",
    "            yield (product_id,pname,stock,stockdate)\n",
    "$$;\n",
    "\n",
    "\n"
   ]
  },
  {
   "cell_type": "code",
   "execution_count": null,
   "id": "ce110000-1111-2222-3333-ffffff000006",
   "metadata": {
    "codeCollapsed": false,
    "collapsed": false,
    "language": "sql",
    "name": "fxn_gen_purchases",
    "vscode": {
     "languageId": "snowflake-sql"
    }
   },
   "outputs": [],
   "source": [
    "-- Create Python UDTF to generate sales transaction data\n",
    "CREATE OR REPLACE FUNCTION gen_cust_purchase(start_date date)\n",
    "RETURNS TABLE (custid number(10), product_id number(10), quantity number(5), purchase_amount number(10,2), purchase_date date)\n",
    "LANGUAGE PYTHON\n",
    "RUNTIME_VERSION=3.10\n",
    "HANDLER='genCustPurchase'\n",
    "PACKAGES = ('Faker')\n",
    "AS $$\n",
    "from faker import Faker\n",
    "import random\n",
    "from datetime import timedelta\n",
    "\n",
    "fake = Faker()\n",
    "\n",
    "class genCustPurchase:\n",
    "    # Generate customer purchase records for 28 days with 50 purchases per day\n",
    "    def process(self, start_date):\n",
    "        # Generate 28 days of data with 50 purchases per day\n",
    "        for day_offset in range(28):\n",
    "            purchase_date = start_date + timedelta(days=day_offset)\n",
    "            \n",
    "            # Generate 50 purchases for this specific date\n",
    "            for _ in range(50):\n",
    "                # c_id = fake.random_int(min=1001, max=1999)\n",
    "                c_id = 1000 + (10 * purchase_date.month) +  random.randint(0, 9)\n",
    "                product_id = fake.random_int(min=101, max=199)\n",
    "                quantity = fake.random_int(min=1, max=5)\n",
    "                purchase_amount = round(random.uniform(10, 1000), 2)\n",
    "                yield (c_id, product_id, quantity, purchase_amount, purchase_date)\n",
    "$$;"
   ]
  },
  {
   "cell_type": "code",
   "execution_count": null,
   "id": "58019414-6ada-408a-8854-84711a81d9c5",
   "metadata": {
    "codeCollapsed": false,
    "collapsed": false,
    "language": "sql",
    "name": "create_tbl_customers",
    "vscode": {
     "languageId": "snowflake-sql"
    }
   },
   "outputs": [],
   "source": [
    "CREATE OR REPLACE TABLE cust_info AS \n",
    "SELECT * FROM table(gen_cust_info(1000)) ORDER BY 1;"
   ]
  },
  {
   "cell_type": "code",
   "execution_count": null,
   "id": "535a936f-3c80-449e-a929-16514eacfc3f",
   "metadata": {
    "codeCollapsed": false,
    "collapsed": false,
    "language": "sql",
    "name": "create_tbl_inventory",
    "vscode": {
     "languageId": "snowflake-sql"
    }
   },
   "outputs": [],
   "source": [
    "CREATE OR REPLACE TABLE prod_stock_inv AS \n",
    "SELECT * FROM table(gen_prod_inv()) ORDER BY 1;"
   ]
  },
  {
   "cell_type": "code",
   "execution_count": null,
   "id": "47296a58-38a5-4b2c-83c7-33e488721438",
   "metadata": {
    "codeCollapsed": false,
    "collapsed": false,
    "language": "sql",
    "name": "create_tbl_sales",
    "vscode": {
     "languageId": "snowflake-sql"
    }
   },
   "outputs": [],
   "source": [
    "-- Create table and insert records for Jan 2025\n",
    "CREATE OR REPLACE TABLE salesdata AS \n",
    "SELECT * FROM table(gen_cust_purchase('2025-01-01'::DATE));"
   ]
  },
  {
   "cell_type": "markdown",
   "id": "7c63b85e-46c2-42cf-a952-5bcefaf1015a",
   "metadata": {
    "collapsed": false,
    "name": "VERIFY_DATA_GEN"
   },
   "source": [
    "## Verify the Generation of Data"
   ]
  },
  {
   "cell_type": "code",
   "execution_count": null,
   "id": "ce110000-1111-2222-3333-ffffff000007",
   "metadata": {
    "codeCollapsed": false,
    "collapsed": false,
    "language": "sql",
    "name": "verify_tbl_counts",
    "vscode": {
     "languageId": "snowflake-sql"
    }
   },
   "outputs": [],
   "source": [
    "-- Verify sample data has been created successfully\n",
    "-- Customer information table, each customer has spending limits\n",
    "SELECT 'CUST_INFO' as table_name, COUNT(*) as record_count FROM cust_info\n",
    "UNION ALL\n",
    "-- Product stock table, each product has stock level from fulfillment day\n",
    "SELECT 'PROD_STOCK_INV' as table_name, COUNT(*) as record_count FROM prod_stock_inv\n",
    "UNION ALL\n",
    "-- Sales data for products purchased online by various customers\n",
    "SELECT 'SALESDATA' as table_name, COUNT(*) as record_count FROM salesdata;\n"
   ]
  },
  {
   "cell_type": "code",
   "execution_count": null,
   "id": "ce110000-1111-2222-3333-ffffff000008",
   "metadata": {
    "codeCollapsed": false,
    "collapsed": false,
    "language": "sql",
    "name": "preview_customers",
    "vscode": {
     "languageId": "snowflake-sql"
    }
   },
   "outputs": [],
   "source": [
    "-- Preview sample data from customer info table\n",
    "SELECT * FROM cust_info LIMIT 5;\n"
   ]
  },
  {
   "cell_type": "code",
   "execution_count": null,
   "id": "ce110000-1111-2222-3333-ffffff000009",
   "metadata": {
    "codeCollapsed": false,
    "collapsed": false,
    "language": "sql",
    "name": "preview_inventory",
    "vscode": {
     "languageId": "snowflake-sql"
    }
   },
   "outputs": [],
   "source": [
    "-- Preview sample data from product inventory table\n",
    "SELECT * FROM prod_stock_inv LIMIT 5;\n"
   ]
  },
  {
   "cell_type": "code",
   "execution_count": null,
   "id": "ce110000-1111-2222-3333-ffffff000010",
   "metadata": {
    "codeCollapsed": false,
    "collapsed": false,
    "language": "sql",
    "name": "preview_sales",
    "vscode": {
     "languageId": "snowflake-sql"
    }
   },
   "outputs": [],
   "source": [
    "-- Preview sample data from sales transactions table\n",
    "SELECT * FROM salesdata LIMIT 5;\n"
   ]
  },
  {
   "cell_type": "markdown",
   "id": "ce110000-1111-2222-3333-ffffff000018",
   "metadata": {
    "collapsed": false,
    "name": "BUILD_INC_PIPELINES",
    "vscode": {
     "languageId": "raw"
    }
   },
   "source": [
    "## Query Types Showcase: Basic Incremental Operations\n",
    "\n",
    "Dynamic Tables support different types of queries that are optimized for incremental refresh mode. These operations can efficiently process only the changed data rather than requiring a full table refresh. Let's demonstrate the four basic incremental operation types:\n",
    "\n",
    "1. **Simple Aggregations** - Basic SUM, COUNT, AVG operations on streaming data\n",
    "2. **Filter Operations** - WHERE clauses filtering on timestamp or ID columns  \n",
    "3. **Simple Joins** - INNER and LEFT JOINs between tables with proper join keys\n",
    "4. **UNION Operations** - Combining similar datasets with UNION ALL\n",
    "\n",
    "Each example will create a Dynamic Table that showcases these incremental-friendly patterns.\n",
    "\n",
    "DOCUMENTATION: https://docs.snowflake.com/en/user-guide/dynamic-tables-supported-queries\n"
   ]
  },
  {
   "cell_type": "code",
   "execution_count": null,
   "id": "ce110000-1111-2222-3333-ffffff000019",
   "metadata": {
    "codeCollapsed": false,
    "collapsed": false,
    "language": "sql",
    "name": "dt_simple_agg",
    "vscode": {
     "languageId": "snowflake-sql"
    }
   },
   "outputs": [],
   "source": [
    "-- Example 1: Simple Aggregations Dynamic Table\n",
    "-- Demonstrates basic SUM, COUNT, AVG operations optimal for incremental refresh\n",
    "CREATE OR REPLACE DYNAMIC TABLE daily_sales_summary\n",
    "    LAG = '1 MINUTE'\n",
    "    WAREHOUSE = XSMALL_WH\n",
    "AS\n",
    "SELECT \n",
    "    purchase_date as sales_date,\n",
    "    COUNT(*) as total_transactions,\n",
    "    SUM(purchase_amount) as total_revenue,\n",
    "    AVG(purchase_amount) as avg_transaction_amount,\n",
    "    SUM(quantity) as total_units_sold,\n",
    "    COUNT(DISTINCT custid) as unique_customers,\n",
    "FROM salesdata sd\n",
    "GROUP BY sales_date;\n"
   ]
  },
  {
   "cell_type": "code",
   "execution_count": null,
   "id": "a8c42762-03d6-4420-8170-422fa3f5f92b",
   "metadata": {
    "codeCollapsed": false,
    "collapsed": false,
    "language": "sql",
    "name": "dt_filters",
    "vscode": {
     "languageId": "snowflake-sql"
    }
   },
   "outputs": [],
   "source": [
    "-- Example 2: Filter Operations Dynamic Table  \n",
    "-- Demonstrates WHERE clauses filtering on timestamp/ID columns for incremental processing\n",
    "CREATE OR REPLACE DYNAMIC TABLE high_value_sales_lastyr\n",
    "    LAG = '1 MINUTE'\n",
    "    WAREHOUSE = XSMALL_WH\n",
    "AS\n",
    "SELECT \n",
    "    sd.custid as customer_id,\n",
    "    sd.product_id ,\n",
    "    sd.purchase_amount as saleprice,\n",
    "    sd.quantity,\n",
    "    sd.purchase_date\n",
    "FROM salesdata sd\n",
    "WHERE \n",
    "    sd.purchase_amount > 500  -- Filter for high-value transactions\n",
    "    AND sd.purchase_date >= DATEADD('day', -365, CURRENT_DATE())  -- Last year transactions only\n",
    "    AND sd.custid % 10 < 3;  -- Specific customer segment\n"
   ]
  },
  {
   "cell_type": "code",
   "execution_count": null,
   "id": "867dde6a-f7c6-4c0f-b1b4-bdb03c5809b4",
   "metadata": {
    "codeCollapsed": false,
    "collapsed": false,
    "language": "sql",
    "name": "dt_simple_join",
    "vscode": {
     "languageId": "snowflake-sql"
    }
   },
   "outputs": [],
   "source": "-- Example 3: Simple Joins Dynamic Table\n-- Demonstrates INNER JOINs with proper join keys for incremental processing\nCREATE OR REPLACE DYNAMIC TABLE sales_report\n    LAG = '1 MINUTE'\n    WAREHOUSE=XSMALL_WH\nAS\n    SELECT\n        sd.purchase_date,\n        sd.custid as customer_id,\n        c.cname as customer_name,\n        sd.product_id ,\n        p.pname as product_name,        \n        sd.purchase_amount as saleprice,\n        sd.quantity,\n        (sd.purchase_amount/sd.quantity) as unitsalesprice        \n    FROM salesdata sd \n    INNER JOIN prod_stock_inv p ON sd.product_id = p.product_id\n    INNER JOIN cust_info c ON sd.custid = c.custid\n        ;\n"
  },
  {
   "cell_type": "code",
   "execution_count": null,
   "id": "ce110000-1111-2222-3333-ffffff000023",
   "metadata": {
    "codeCollapsed": false,
    "collapsed": false,
    "language": "sql",
    "name": "dt_unions",
    "vscode": {
     "languageId": "snowflake-sql"
    }
   },
   "outputs": [],
   "source": "--Example 4: UNION Operations Dynamic Table\n--Demonstrates combining similar datasets with UNION ALL for incremental processing\nCREATE OR REPLACE DYNAMIC TABLE unified_transaction_log\n    LAG = '1 MINUTE'\n    WAREHOUSE = XSMALL_WH\nAS\n-- High value customers (>= 750 total sales)\nSELECT \n    'HIGH_VALUE' as transaction_category,\n    customer_id,\n    customer_name,\n    purchase_date,\n    sum(saleprice) as total_sales\nFROM sales_report \nGROUP BY ALL\nHAVING total_sales >= 750\n\nUNION\n\n-- Medium value customers (250-749 total sales)\nSELECT \n    'MEDIUM_VALUE' as transaction_category,\n    customer_id,\n    customer_name,\n    purchase_date,\n    sum(saleprice) as total_sales\nFROM sales_report \nGROUP BY ALL\nHAVING total_sales >= 250 AND total_sales < 750\n\nUNION\n\n-- Low value customers (< 250 total sales)\nSELECT \n    'LOW_VALUE' as transaction_category,\n    customer_id,\n    customer_name,\n    purchase_date,\n    sum(saleprice) as total_sales\nFROM sales_report \nGROUP BY ALL\nHAVING total_sales < 250;\n"
  },
  {
   "cell_type": "markdown",
   "id": "5d3f6998-261c-49c8-b1e8-28fb020a43a7",
   "metadata": {
    "collapsed": false,
    "name": "VERIFY_INC_PIPELINES"
   },
   "source": [
    "## Verify the Dynamic Tables Group 1 Pipelines"
   ]
  },
  {
   "cell_type": "code",
   "execution_count": null,
   "id": "ce110000-1111-2222-3333-ffffff000015",
   "metadata": {
    "codeCollapsed": false,
    "collapsed": false,
    "language": "sql",
    "name": "preview_daily_sales_summary",
    "vscode": {
     "languageId": "snowflake-sql"
    }
   },
   "outputs": [],
   "source": [
    "SELECT * FROM DAILY_SALES_SUMMARY LIMIT 5;"
   ]
  },
  {
   "cell_type": "code",
   "execution_count": null,
   "id": "0d1dbec9-abb1-4678-add2-8f785885145a",
   "metadata": {
    "codeCollapsed": false,
    "collapsed": false,
    "language": "sql",
    "name": "preview_high_value_sales_lastyr",
    "vscode": {
     "languageId": "snowflake-sql"
    }
   },
   "outputs": [],
   "source": [
    "SELECT * FROM HIGH_VALUE_SALES_LASTYR LIMIT 5;"
   ]
  },
  {
   "cell_type": "code",
   "execution_count": null,
   "id": "7e5b0f0b-dc1f-41a2-b34b-7a3a8666f600",
   "metadata": {
    "codeCollapsed": false,
    "collapsed": false,
    "language": "sql",
    "name": "preview_customer_sales_report",
    "vscode": {
     "languageId": "snowflake-sql"
    }
   },
   "outputs": [],
   "source": [
    "SELECT * FROM SALES_REPORT LIMIT 5;"
   ]
  },
  {
   "cell_type": "code",
   "execution_count": null,
   "id": "2baa6162-3f96-4f1d-9040-836d298f2764",
   "metadata": {
    "codeCollapsed": false,
    "collapsed": false,
    "language": "sql",
    "name": "preview_unified_transaction_log",
    "vscode": {
     "languageId": "snowflake-sql"
    }
   },
   "outputs": [],
   "source": [
    "SELECT * FROM UNIFIED_TRANSACTION_LOG LIMIT 5;"
   ]
  },
  {
   "cell_type": "markdown",
   "id": "ce110000-1111-2222-3333-ffffff000025",
   "metadata": {
    "collapsed": false,
    "name": "DT1_VERIFY_INCREMENTAL",
    "vscode": {
     "languageId": "raw"
    }
   },
   "source": [
    "### Testing Incremental Refresh Behavior\n",
    "\n",
    "Now let's test the incremental refresh behavior of our Dynamic Tables by:\n",
    "1. Adding new sales data to trigger automatic refreshes\n",
    "2. Monitoring the refresh history to verify incremental processing\n",
    "3. Comparing before/after record counts to confirm updates\n"
   ]
  },
  {
   "cell_type": "code",
   "execution_count": null,
   "id": "ce110000-1111-2222-3333-ffffff000024",
   "metadata": {
    "codeCollapsed": false,
    "collapsed": false,
    "language": "sql",
    "name": "dt1_pre_cnts",
    "vscode": {
     "languageId": "snowflake-sql"
    }
   },
   "outputs": [],
   "source": [
    "-- Verify the new Dynamic Tables were created successfully\n",
    "SELECT '01.DAILY_SALES_SUMMARY' as table_name, COUNT(*) as record_count FROM daily_sales_summary\n",
    "UNION ALL\n",
    "SELECT '02.HIGH_VALUE_SALES_LASTYR' as table_name, COUNT(*) as record_count FROM high_value_sales_lastyr\n",
    "UNION ALL\n",
    "SELECT '03.SALES_REPORT' as table_name, COUNT(*) as record_count FROM sales_report\n",
    "UNION ALL\n",
    "SELECT '04.UNIFIED_TRANSACTION_LOG' as table_name, COUNT(*) as record_count FROM unified_transaction_log;\n"
   ]
  },
  {
   "cell_type": "code",
   "execution_count": null,
   "id": "ce110000-1111-2222-3333-ffffff000016",
   "metadata": {
    "codeCollapsed": false,
    "collapsed": false,
    "language": "sql",
    "name": "dt1_insert_test_pipeline",
    "vscode": {
     "languageId": "snowflake-sql"
    }
   },
   "outputs": [],
   "source": [
    "-- Test the Dynamic Tables pipeline by adding new data for Feb 2025\n",
    "INSERT INTO salesdata SELECT * FROM table(gen_cust_purchase('2025-02-01'::DATE));"
   ]
  },
  {
   "cell_type": "markdown",
   "id": "b182a2ce-bdbb-43a6-8328-49c1ad363efb",
   "metadata": {
    "collapsed": false,
    "name": "DT1_WAIT"
   },
   "source": [
    "### WAIT! It can take 1 minute for automatic refresh"
   ]
  },
  {
   "cell_type": "code",
   "execution_count": null,
   "id": "94d7c44d-a4fc-4609-83e0-39eb036f4435",
   "metadata": {
    "codeCollapsed": false,
    "collapsed": false,
    "language": "sql",
    "name": "dt1_post_cnts",
    "vscode": {
     "languageId": "snowflake-sql"
    }
   },
   "outputs": [],
   "source": [
    "-- Verify the new Dynamic Tables were created successfully\n",
    "SELECT '01.DAILY_SALES_SUMMARY' as table_name, COUNT(*) as record_count FROM daily_sales_summary\n",
    "UNION ALL\n",
    "SELECT '02.HIGH_VALUE_SALES_LASTYR' as table_name, COUNT(*) as record_count FROM high_value_sales_lastyr\n",
    "UNION ALL\n",
    "SELECT '03.SALES_REPORT' as table_name, COUNT(*) as record_count FROM sales_report\n",
    "UNION ALL\n",
    "SELECT '04.UNIFIED_TRANSACTION_LOG' as table_name, COUNT(*) as record_count FROM unified_transaction_log;\n"
   ]
  },
  {
   "cell_type": "code",
   "execution_count": null,
   "id": "1c3e2342-76d2-457f-a1c9-ea2d305eb1a2",
   "metadata": {
    "codeCollapsed": false,
    "collapsed": false,
    "language": "sql",
    "name": "dt1_check_mode",
    "vscode": {
     "languageId": "snowflake-sql"
    }
   },
   "outputs": [],
   "source": [
    "-- Check Dynamic Table refresh history to verify incremental vs full refresh behavior\n",
    "-- REFRESH_TYPE indicates whether the refresh was 'INCREMENTAL' or 'FULL'\n",
    "SELECT \n",
    "    NAME as dynamic_table_name,\n",
    "    REFRESH_ACTION,\n",
    "    REFRESH_TRIGGER,\n",
    "    DATA_TIMESTAMP,\n",
    "    REFRESH_START_TIME,\n",
    "    REFRESH_END_TIME,\n",
    "    STATISTICS\n",
    "FROM \n",
    "    TABLE(INFORMATION_SCHEMA.DYNAMIC_TABLE_REFRESH_HISTORY())\n",
    "WHERE \n",
    "    NAME IN ('DAILY_SALES_SUMMARY', 'HIGH_VALUE_SALES_LASTYR', 'SALES_REPORT', 'UNIFIED_TRANSACTION_LOG')\n",
    "    AND REFRESH_START_TIME >= DATEADD('minutes', -10, CURRENT_TIMESTAMP())\n",
    "    AND REFRESH_ACTION <> 'NO_DATA'\n",
    "ORDER BY \n",
    "    NAME, DATA_TIMESTAMP DESC, REFRESH_END_TIME DESC;\n"
   ]
  },
  {
   "cell_type": "markdown",
   "id": "d9754fdd-32a2-4fc2-a4fa-0f881815b036",
   "metadata": {
    "collapsed": false,
    "name": "GOT_FULL_EXPECTED_INC"
   },
   "source": "Oh No!  Two of our DTs are doing FULL refresh?  What's up?\n\nISSUE: This is because the default REFRESH_MODE is AUTO, which chooses FULL refresh if it's likely not to perform well incrementally (eg. from multiple joins or unions with aggs).\n\nFIX: It's fine to explicitly use REFRESH_MODE=INCREMENTAL if your DT should work well incrementally.\n\nLet's try it!"
  },
  {
   "cell_type": "code",
   "execution_count": null,
   "id": "82ff9b85-ee15-4589-90cc-14a569d8711e",
   "metadata": {
    "codeCollapsed": false,
    "collapsed": false,
    "language": "sql",
    "name": "dt1_simple_join3",
    "vscode": {
     "languageId": "snowflake-sql"
    }
   },
   "outputs": [],
   "source": [
    "-- Example 3: Simple Joins Dynamic Table\n",
    "-- Demonstrates INNER JOINs with proper join keys for incremental processing\n",
    "CREATE OR REPLACE DYNAMIC TABLE sales_report\n",
    "    LAG = '1 MINUTE'\n",
    "    WAREHOUSE=XSMALL_WH\n",
    "    REFRESH_MODE=INCREMENTAL\n",
    "AS\n",
    "    SELECT\n",
    "        sd.purchase_date,\n",
    "        sd.custid as customer_id,\n",
    "        c.cname as customer_name,\n",
    "        sd.product_id ,\n",
    "        p.pname as product_name,        \n",
    "        sd.purchase_amount as saleprice,\n",
    "        sd.quantity,\n",
    "        (sd.purchase_amount/sd.quantity) as unitsalesprice        \n",
    "    FROM salesdata sd \n",
    "    INNER JOIN prod_stock_inv p ON sd.product_id = p.product_id\n",
    "    INNER JOIN cust_info c ON sd.custid = c.custid\n",
    "        ;\n"
   ]
  },
  {
   "cell_type": "code",
   "id": "ea2837c6-60d5-4bab-982d-387d7edb47ca",
   "metadata": {
    "language": "sql",
    "name": "dt1_unions2"
   },
   "outputs": [],
   "source": "--Example 4: UNION Operations Dynamic Table\n--Demonstrates combining similar datasets with UNION ALL for incremental processing\nCREATE OR REPLACE DYNAMIC TABLE unified_transaction_log\n    LAG = '1 MINUTE'\n    WAREHOUSE = XSMALL_WH\n    REFRESH_MODE=INCREMENTAL    \nAS\n-- High value customers (>= 750 total sales)\nSELECT \n    'HIGH_VALUE' as transaction_category,\n    customer_id,\n    customer_name,\n    purchase_date,\n    sum(saleprice) as total_sales\nFROM sales_report \nGROUP BY ALL\nHAVING total_sales >= 750\n\nUNION\n\n-- Medium value customers (250-749 total sales)\nSELECT \n    'MEDIUM_VALUE' as transaction_category,\n    customer_id,\n    customer_name,\n    purchase_date,\n    sum(saleprice) as total_sales\nFROM sales_report \nGROUP BY ALL\nHAVING total_sales >= 250 AND total_sales < 750\n\nUNION\n\n-- Low value customers (< 250 total sales)\nSELECT \n    'LOW_VALUE' as transaction_category,\n    customer_id,\n    customer_name,\n    purchase_date,\n    sum(saleprice) as total_sales\nFROM sales_report \nGROUP BY ALL\nHAVING total_sales < 250;\n",
   "execution_count": null
  },
  {
   "cell_type": "code",
   "execution_count": null,
   "id": "ccf70711-228e-4281-8c01-b3eb3b8387fe",
   "metadata": {
    "codeCollapsed": false,
    "collapsed": false,
    "language": "sql",
    "name": "dt1_insert2_test_pipeline",
    "vscode": {
     "languageId": "snowflake-sql"
    }
   },
   "outputs": [],
   "source": "-- Test the Dynamic Tables pipeline by adding new data for Feb 2025 again\nINSERT INTO salesdata SELECT * FROM table(gen_cust_purchase('2025-02-01'::DATE));"
  },
  {
   "cell_type": "code",
   "execution_count": null,
   "id": "bb651b07-6efc-4d83-9222-25736ae531d2",
   "metadata": {
    "codeCollapsed": false,
    "collapsed": false,
    "language": "sql",
    "name": "dt1_check_mode2",
    "vscode": {
     "languageId": "snowflake-sql"
    }
   },
   "outputs": [],
   "source": "-- Check Dynamic Table refresh history to verify incremental vs full refresh behavior\n-- REFRESH_TYPE indicates whether the refresh was 'INCREMENTAL' or 'FULL'\nSELECT \n    NAME as dynamic_table_name,\n    REFRESH_ACTION,\n    REFRESH_TRIGGER,\n    DATA_TIMESTAMP,\n    REFRESH_START_TIME,\n    REFRESH_END_TIME,\n    STATISTICS\nFROM \n    TABLE(INFORMATION_SCHEMA.DYNAMIC_TABLE_REFRESH_HISTORY())\nWHERE \n    NAME IN ('DAILY_SALES_SUMMARY', 'HIGH_VALUE_SALES_LASTYR', 'SALES_REPORT', 'UNIFIED_TRANSACTION_LOG')\n    AND REFRESH_START_TIME >= DATEADD('minutes', -10, CURRENT_TIMESTAMP())\n    AND REFRESH_ACTION <> 'NO_DATA'\nORDER BY \n    NAME, DATA_TIMESTAMP DESC, REFRESH_END_TIME DESC;\n"
  },
  {
   "cell_type": "markdown",
   "id": "ce110000-1111-2222-3333-ffffff000075",
   "metadata": {
    "collapsed": false,
    "name": "summary_conclusion"
   },
   "source": "## hurray!\nEverything is running on **Incremental** refreshes!\n"
  },
  {
   "cell_type": "code",
   "id": "000a7cce-332f-43d7-915b-a7acd3273cab",
   "metadata": {
    "language": "sql",
    "name": "Cleanup"
   },
   "outputs": [],
   "source": " DROP SCHEMA DEMO.DT_DEMO CASCADE;\n DROP DATABASE DEMO;\n",
   "execution_count": null
  }
 ]
}