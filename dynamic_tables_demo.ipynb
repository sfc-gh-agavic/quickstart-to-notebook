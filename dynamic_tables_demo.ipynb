{
  "cells": [
    {
      "cell_type": "code",
      "execution_count": null,
      "metadata": {
        "vscode": {
          "languageId": "plaintext"
        }
      },
      "outputs": [],
      "source": [
        "# Getting Started with Snowflake Dynamic Tables\n",
        "\n",
        "This notebook demonstrates how to build continuous data pipelines using Snowflake Dynamic Tables - a declarative way of defining data pipelines that automatically and continuously materialize query results. We'll build a change data capture (CDC) pipeline, cumulative sum using Python UDTF, and data validation using Dynamic Tables.\n",
        "\n",
        "**Original Quickstart:** https://quickstarts.snowflake.com/guide/getting_started_with_dynamic_tables/index.html\n",
        "\n",
        "**Note:** This notebook uses the Faker Python package for generating sample data. Please ensure this package is available in your environment before running the Python UDTFs.\n"
      ]
    },
    {
      "cell_type": "code",
      "execution_count": null,
      "metadata": {
        "vscode": {
          "languageId": "plaintext"
        }
      },
      "outputs": [],
      "source": [
        "## Session Context Setup\n"
      ]
    },
    {
      "cell_type": "code",
      "execution_count": null,
      "metadata": {
        "vscode": {
          "languageId": "sql"
        }
      },
      "outputs": [],
      "source": [
        "-- Display current session context\n",
        "SELECT CURRENT_USER(), CURRENT_ROLE(), CURRENT_WAREHOUSE(), CURRENT_DATABASE(), CURRENT_SCHEMA();\n"
      ]
    },
    {
      "cell_type": "code",
      "execution_count": null,
      "metadata": {
        "vscode": {
          "languageId": "sql"
        }
      },
      "outputs": [],
      "source": [
        "## Initial Database and Warehouse Setup\n"
      ]
    },
    {
      "cell_type": "code",
      "execution_count": null,
      "metadata": {
        "vscode": {
          "languageId": "sql"
        }
      },
      "outputs": [],
      "source": [
        "-- Create initial database, schema and warehouse infrastructure\n",
        "CREATE DATABASE IF NOT EXISTS DEMO;\n",
        "CREATE SCHEMA IF NOT EXISTS DEMO.DT_DEMO;\n",
        "USE SCHEMA DEMO.DT_DEMO;\n",
        "\n",
        "CREATE WAREHOUSE XSMALL_WH \n",
        "WAREHOUSE_TYPE = STANDARD\n",
        "  WAREHOUSE_SIZE = XSMALL\n",
        "  AUTO_SUSPEND = 300\n",
        "  AUTO_RESUME = TRUE;\n"
      ]
    },
    {
      "cell_type": "code",
      "execution_count": null,
      "metadata": {
        "vscode": {
          "languageId": "sql"
        }
      },
      "outputs": [],
      "source": [
        "## Sample Data Generation - Customer Information\n"
      ]
    },
    {
      "cell_type": "code",
      "execution_count": null,
      "metadata": {
        "vscode": {
          "languageId": "sql"
        }
      },
      "outputs": [],
      "source": [
        "-- Create Python UDTF to generate customer information data\n",
        "create or replace function gen_cust_info(num_records number)\n",
        "returns table (custid number(10), cname varchar(100), spendlimit number(10,2))\n",
        "language python\n",
        "runtime_version=3.10\n",
        "handler='CustTab'\n",
        "packages = ('Faker')\n",
        "as $$\n",
        "from faker import Faker\n",
        "import random\n",
        "\n",
        "fake = Faker()\n",
        "# Generate a list of customers  \n",
        "\n",
        "class CustTab:\n",
        "    # Generate multiple customer records\n",
        "    def process(self, num_records):\n",
        "        customer_id = 1000 # Starting customer ID                 \n",
        "        for _ in range(num_records):\n",
        "            custid = customer_id + 1\n",
        "            cname = fake.name()\n",
        "            spendlimit = round(random.uniform(1000, 10000),2)\n",
        "            customer_id += 1\n",
        "            yield (custid,cname,spendlimit)\n",
        "\n",
        "$$;\n"
      ]
    },
    {
      "cell_type": "code",
      "execution_count": null,
      "metadata": {
        "vscode": {
          "languageId": "sql"
        }
      },
      "outputs": [],
      "source": [
        "-- Generate customer information table with 1000 records\n",
        "create or replace table cust_info as select * from table(gen_cust_info(1000)) order by 1;\n"
      ]
    },
    {
      "cell_type": "code",
      "execution_count": null,
      "metadata": {
        "vscode": {
          "languageId": "sql"
        }
      },
      "outputs": [],
      "source": [
        "## Sample Data Generation - Product Inventory\n"
      ]
    },
    {
      "cell_type": "code",
      "execution_count": null,
      "metadata": {
        "vscode": {
          "languageId": "sql"
        }
      },
      "outputs": [],
      "source": [
        "-- Create Python UDTF to generate product inventory data\n",
        "create or replace function gen_prod_inv(num_records number)\n",
        "returns table (pid number(10), pname varchar(100), stock number(10,2), stockdate date)\n",
        "language python\n",
        "runtime_version=3.10\n",
        "handler='ProdTab'\n",
        "packages = ('Faker')\n",
        "as $$\n",
        "from faker import Faker\n",
        "import random\n",
        "from datetime import datetime, timedelta\n",
        "fake = Faker()\n",
        "\n",
        "class ProdTab:\n",
        "    # Generate multiple product records\n",
        "    def process(self, num_records):\n",
        "        product_id = 100 # Starting customer ID                 \n",
        "        for _ in range(num_records):\n",
        "            pid = product_id + 1\n",
        "            pname = fake.catch_phrase()\n",
        "            stock = round(random.uniform(500, 1000),0)\n",
        "            # Get the current date\n",
        "            current_date = datetime.now()\n",
        "            \n",
        "            # Calculate the maximum date (3 months from now)\n",
        "            min_date = current_date - timedelta(days=90)\n",
        "            \n",
        "            # Generate a random date within the date range\n",
        "            stockdate = fake.date_between_dates(min_date,current_date)\n",
        "\n",
        "            product_id += 1\n",
        "            yield (pid,pname,stock,stockdate)\n",
        "\n",
        "$$;\n"
      ]
    },
    {
      "cell_type": "code",
      "execution_count": null,
      "metadata": {
        "vscode": {
          "languageId": "sql"
        }
      },
      "outputs": [],
      "source": [
        "-- Generate product inventory table with 100 records\n",
        "create or replace table prod_stock_inv as select * from table(gen_prod_inv(100)) order by 1;\n"
      ]
    },
    {
      "cell_type": "code",
      "execution_count": null,
      "metadata": {
        "vscode": {
          "languageId": "sql"
        }
      },
      "outputs": [],
      "source": [
        "## Sample Data Generation - Sales Data\n"
      ]
    },
    {
      "cell_type": "code",
      "execution_count": null,
      "metadata": {
        "vscode": {
          "languageId": "sql"
        }
      },
      "outputs": [],
      "source": [
        "-- Create Python UDTF to generate customer purchase/sales data\n",
        "create or replace function gen_cust_purchase(num_records number,ndays number)\n",
        "returns table (custid number(10), purchase variant)\n",
        "language python\n",
        "runtime_version=3.10\n",
        "handler='genCustPurchase'\n",
        "packages = ('Faker')\n",
        "as $$\n",
        "from faker import Faker\n",
        "import random\n",
        "from datetime import datetime, timedelta\n",
        "\n",
        "fake = Faker()\n",
        "\n",
        "class genCustPurchase:\n",
        "    # Generate multiple customer purchase records\n",
        "    def process(self, num_records,ndays):       \n",
        "        for _ in range(num_records):\n",
        "            c_id = fake.random_int(min=1001, max=1999)\n",
        "            \n",
        "            #print(c_id)\n",
        "            customer_purchase = {\n",
        "                'custid': c_id,\n",
        "                'purchased': []\n",
        "            }\n",
        "            # Get the current date\n",
        "            current_date = datetime.now()\n",
        "            \n",
        "            # Calculate the maximum date (days from now)\n",
        "            min_date = current_date - timedelta(days=ndays)\n",
        "            \n",
        "            # Generate a random date within the date range\n",
        "            pdate = fake.date_between_dates(min_date,current_date)\n",
        "            \n",
        "            purchase = {\n",
        "                'prodid': fake.random_int(min=101, max=199),\n",
        "                'quantity': fake.random_int(min=1, max=5),\n",
        "                'purchase_amount': round(random.uniform(10, 1000),2),\n",
        "                'purchase_date': pdate\n",
        "            }\n",
        "            customer_purchase['purchased'].append(purchase)\n",
        "            \n",
        "            #customer_purchases.append(customer_purchase)\n",
        "            yield (c_id,purchase)\n",
        "\n",
        "$$;\n"
      ]
    },
    {
      "cell_type": "code",
      "execution_count": null,
      "metadata": {
        "vscode": {
          "languageId": "sql"
        }
      },
      "outputs": [],
      "source": [
        "-- Generate sales data table with 10000 records for last 10 days\n",
        "create or replace table salesdata as select * from table(gen_cust_purchase(10000,10));\n"
      ]
    },
    {
      "cell_type": "code",
      "execution_count": null,
      "metadata": {
        "vscode": {
          "languageId": "sql"
        }
      },
      "outputs": [],
      "source": [
        "## Data Verification\n"
      ]
    },
    {
      "cell_type": "code",
      "execution_count": null,
      "metadata": {
        "vscode": {
          "languageId": "sql"
        }
      },
      "outputs": [],
      "source": [
        "-- Verify customer information table data\n",
        "select * from cust_info limit 10;\n"
      ]
    },
    {
      "cell_type": "code",
      "execution_count": null,
      "metadata": {
        "vscode": {
          "languageId": "sql"
        }
      },
      "outputs": [],
      "source": [
        "-- Verify product stock table data\n",
        "select * from prod_stock_inv limit 10;\n"
      ]
    },
    {
      "cell_type": "code",
      "execution_count": null,
      "metadata": {
        "vscode": {
          "languageId": "sql"
        }
      },
      "outputs": [],
      "source": [
        "-- Verify sales data table structure\n",
        "select * from salesdata limit 10;\n"
      ]
    },
    {
      "cell_type": "code",
      "execution_count": null,
      "metadata": {
        "vscode": {
          "languageId": "sql"
        }
      },
      "outputs": [],
      "source": [
        "## Dynamic Tables Pipeline - Customer Sales Data History\n"
      ]
    },
    {
      "cell_type": "code",
      "execution_count": null,
      "metadata": {
        "vscode": {
          "languageId": "sql"
        }
      },
      "outputs": [],
      "source": [
        "-- Create first Dynamic Table to extract and join sales and customer data\n",
        "CREATE OR REPLACE DYNAMIC TABLE customer_sales_data_history\n",
        "    LAG='DOWNSTREAM'\n",
        "    WAREHOUSE=XSMALL_WH\n",
        "AS\n",
        "select \n",
        "    s.custid as customer_id,\n",
        "    c.cname as customer_name,\n",
        "    s.purchase:\"prodid\"::number(5) as product_id,\n",
        "    s.purchase:\"purchase_amount\"::number(10) as saleprice,\n",
        "    s.purchase:\"quantity\"::number(5) as quantity,\n",
        "    s.purchase:\"purchase_date\"::date as salesdate\n",
        "from\n",
        "    cust_info c inner join salesdata s on c.custid = s.custid\n",
        ";\n"
      ]
    },
    {
      "cell_type": "code",
      "execution_count": null,
      "metadata": {
        "vscode": {
          "languageId": "sql"
        }
      },
      "outputs": [],
      "source": [
        "-- Verify customer sales data history\n",
        "select * from customer_sales_data_history limit 10;\n"
      ]
    },
    {
      "cell_type": "code",
      "execution_count": null,
      "metadata": {
        "vscode": {
          "languageId": "sql"
        }
      },
      "outputs": [],
      "source": [
        "-- Check record count in customer sales data history\n",
        "select count(*) from customer_sales_data_history;\n"
      ]
    },
    {
      "cell_type": "code",
      "execution_count": null,
      "metadata": {
        "vscode": {
          "languageId": "sql"
        }
      },
      "outputs": [],
      "source": [
        "## Dynamic Tables Pipeline - Sales Report with SCD Type 2\n"
      ]
    },
    {
      "cell_type": "code",
      "execution_count": null,
      "metadata": {
        "vscode": {
          "languageId": "sql"
        }
      },
      "outputs": [],
      "source": [
        "-- Create sales report Dynamic Table with SCD Type 2 transformation using LEAD function\n",
        "CREATE OR REPLACE DYNAMIC TABLE salesreport\n",
        "    LAG = '1 MINUTE'\n",
        "    WAREHOUSE=XSMALL_WH\n",
        "AS\n",
        "    Select\n",
        "        t1.customer_id,\n",
        "        t1.customer_name, \n",
        "        t1.product_id,\n",
        "        p.pname as product_name,\n",
        "        t1.saleprice,\n",
        "        t1.quantity,\n",
        "        (t1.saleprice/t1.quantity) as unitsalesprice,\n",
        "        t1.salesdate as CreationTime,\n",
        "        customer_id || '-' || t1.product_id  || '-' || t1.salesdate AS CUSTOMER_SK,\n",
        "        LEAD(CreationTime) OVER (PARTITION BY t1.customer_id ORDER BY CreationTime ASC) AS END_TIME\n",
        "    from \n",
        "        customer_sales_data_history t1 inner join prod_stock_inv p \n",
        "        on t1.product_id = p.pid\n",
        "       \n",
        ";\n"
      ]
    },
    {
      "cell_type": "code",
      "execution_count": null,
      "metadata": {
        "vscode": {
          "languageId": "sql"
        }
      },
      "outputs": [],
      "source": [
        "-- Verify sales report data\n",
        "select * from salesreport limit 10;\n"
      ]
    },
    {
      "cell_type": "code",
      "execution_count": null,
      "metadata": {
        "vscode": {
          "languageId": "sql"
        }
      },
      "outputs": [],
      "source": [
        "-- Check record count in sales report\n",
        "select count(*) from salesreport;\n"
      ]
    },
    {
      "cell_type": "code",
      "execution_count": null,
      "metadata": {
        "vscode": {
          "languageId": "sql"
        }
      },
      "outputs": [],
      "source": [
        "## Testing the Dynamic Tables Pipeline\n"
      ]
    },
    {
      "cell_type": "code",
      "execution_count": null,
      "metadata": {
        "vscode": {
          "languageId": "sql"
        }
      },
      "outputs": [],
      "source": [
        "-- Add new sales records to test pipeline refresh\n",
        "insert into salesdata select * from table(gen_cust_purchase(10000,2));\n"
      ]
    },
    {
      "cell_type": "code",
      "execution_count": null,
      "metadata": {
        "vscode": {
          "languageId": "sql"
        }
      },
      "outputs": [],
      "source": [
        "-- Check updated raw base table record count\n",
        "select count(*) from salesdata;\n"
      ]
    },
    {
      "cell_type": "code",
      "execution_count": null,
      "metadata": {
        "vscode": {
          "languageId": "sql"
        }
      },
      "outputs": [],
      "source": [
        "-- Check Dynamic Tables after refresh (may take up to 1 minute)\n",
        "select count(*) from customer_sales_data_history;\n"
      ]
    },
    {
      "cell_type": "code",
      "execution_count": null,
      "metadata": {
        "vscode": {
          "languageId": "sql"
        }
      },
      "outputs": [],
      "source": [
        "-- Check sales report table count after refresh\n",
        "select count(*) from salesreport;\n"
      ]
    },
    {
      "cell_type": "code",
      "execution_count": null,
      "metadata": {
        "vscode": {
          "languageId": "sql"
        }
      },
      "outputs": [],
      "source": [
        "## Python UDTF for Cumulative Sum\n"
      ]
    },
    {
      "cell_type": "code",
      "execution_count": null,
      "metadata": {
        "vscode": {
          "languageId": "sql"
        }
      },
      "outputs": [],
      "source": [
        "-- Create Python UDTF for running total calculation\n",
        "CREATE OR REPLACE FUNCTION sum_table (INPUT_NUMBER number)\n",
        "  returns TABLE (running_total number)\n",
        "  language python\n",
        "  runtime_version = '3.10'\n",
        "  handler = 'gen_sum_table'\n",
        "as\n",
        "$$\n",
        "\n",
        "# Define handler class\n",
        "class gen_sum_table :\n",
        "\n",
        "  ## Define __init__ method ro initilize the variable\n",
        "  def __init__(self) :    \n",
        "    self._running_sum = 0\n",
        "  \n",
        "  ## Define process method\n",
        "  def process(self, input_number: float) :\n",
        "    # Increment running sum with data from the input row\n",
        "    new_total = self._running_sum + input_number\n",
        "    self._running_sum = new_total\n",
        "\n",
        "    yield(new_total,)\n",
        "  \n",
        "$$\n",
        ";\n"
      ]
    },
    {
      "cell_type": "code",
      "execution_count": null,
      "metadata": {
        "vscode": {
          "languageId": "sql"
        }
      },
      "outputs": [],
      "source": [
        "## Dynamic Table with Python UDTF - Cumulative Purchase\n"
      ]
    },
    {
      "cell_type": "code",
      "execution_count": null,
      "metadata": {
        "vscode": {
          "languageId": "sql"
        }
      },
      "outputs": [],
      "source": [
        "-- Create Dynamic Table using Python UDTF for cumulative purchase calculation\n",
        "CREATE OR REPLACE DYNAMIC TABLE cumulative_purchase\n",
        "    LAG = '1 MINUTE'\n",
        "    WAREHOUSE=XSMALL_WH\n",
        "AS\n",
        "    select \n",
        "        month(creationtime) monthNum,\n",
        "        year(creationtime) yearNum,\n",
        "        customer_id, \n",
        "        saleprice,\n",
        "        running_total \n",
        "    from \n",
        "        salesreport,\n",
        "        table(sum_table(saleprice) over (partition by creationtime,customer_id order by creationtime, customer_id))\n",
        "       \n",
        ";\n"
      ]
    },
    {
      "cell_type": "code",
      "execution_count": null,
      "metadata": {
        "vscode": {
          "languageId": "sql"
        }
      },
      "outputs": [],
      "source": [
        "-- Verify cumulative purchase data\n",
        "select * from cumulative_purchase limit 10;\n"
      ]
    },
    {
      "cell_type": "code",
      "execution_count": null,
      "metadata": {
        "vscode": {
          "languageId": "sql"
        }
      },
      "outputs": [],
      "source": [
        "## Data Validation - Product Inventory Alert\n"
      ]
    },
    {
      "cell_type": "code",
      "execution_count": null,
      "metadata": {
        "vscode": {
          "languageId": "sql"
        }
      },
      "outputs": [],
      "source": [
        "-- Create Dynamic Table for product inventory alerts when stock is low\n",
        "CREATE OR REPLACE DYNAMIC TABLE PROD_INV_ALERT\n",
        "    LAG = '1 MINUTE'\n",
        "    WAREHOUSE=XSMALL_WH\n",
        "AS\n",
        "    SELECT \n",
        "        S.PRODUCT_ID, \n",
        "        S.PRODUCT_NAME,CREATIONTIME AS LATEST_SALES_DATE,\n",
        "        STOCK AS BEGINING_STOCK,\n",
        "        SUM(S.QUANTITY) OVER (PARTITION BY S.PRODUCT_ID ORDER BY CREATIONTIME) TOTALUNITSOLD, \n",
        "        (STOCK - TOTALUNITSOLD) AS UNITSLEFT,\n",
        "        ROUND(((STOCK-TOTALUNITSOLD)/STOCK) *100,2) PERCENT_UNITLEFT,\n",
        "        CURRENT_TIMESTAMP() AS ROWCREATIONTIME\n",
        "    FROM SALESREPORT S JOIN PROD_STOCK_INV ON PRODUCT_ID = PID\n",
        "    QUALIFY ROW_NUMBER() OVER (PARTITION BY PRODUCT_ID ORDER BY CREATIONTIME DESC) = 1\n",
        ";\n"
      ]
    },
    {
      "cell_type": "code",
      "execution_count": null,
      "metadata": {
        "vscode": {
          "languageId": "sql"
        }
      },
      "outputs": [],
      "source": [
        "-- Check products with low inventory (less than 10%)\n",
        "select * from prod_inv_alert where percent_unitleft < 10;\n"
      ]
    },
    {
      "cell_type": "code",
      "execution_count": null,
      "metadata": {
        "vscode": {
          "languageId": "sql"
        }
      },
      "outputs": [],
      "source": [
        "## Email Alerts Setup\n"
      ]
    },
    {
      "cell_type": "code",
      "execution_count": null,
      "metadata": {
        "vscode": {
          "languageId": "sql"
        }
      },
      "outputs": [],
      "source": [
        "-- Create notification integration for email alerts (update email address as needed)\n",
        "CREATE NOTIFICATION INTEGRATION IF NOT EXISTS\n",
        "    notification_emailer\n",
        "    TYPE=EMAIL\n",
        "    ENABLED=TRUE\n",
        "    ALLOWED_RECIPIENTS=('first.last@company.com')\n",
        "    COMMENT = 'email integration to update on low product inventory levels'\n",
        ";\n"
      ]
    },
    {
      "cell_type": "code",
      "execution_count": null,
      "metadata": {
        "vscode": {
          "languageId": "sql"
        }
      },
      "outputs": [],
      "source": [
        "-- Create alert for low inventory (update email and warehouse as needed)\n",
        "CREATE OR REPLACE ALERT alert_low_inv\n",
        "  WAREHOUSE = XSMALL_WH\n",
        "  SCHEDULE = '30 MINUTE'\n",
        "  IF (EXISTS (\n",
        "      SELECT *\n",
        "      FROM prod_inv_alert\n",
        "      WHERE percent_unitleft < 10 and ROWCREATIONTIME > SNOWFLAKE.ALERT.LAST_SUCCESSFUL_SCHEDULED_TIME()\n",
        "  ))\n",
        "  THEN CALL SYSTEM$SEND_EMAIL(\n",
        "                'notification_emailer', -- notification integration to use\n",
        "                'first.last@company.com', -- Email\n",
        "                'Email Alert: Low Inventory of products', -- Subject\n",
        "                'Inventory running low for certain products. Please check the inventory report in Snowflake table prod_inv_alert' -- Body of email\n",
        ");\n"
      ]
    },
    {
      "cell_type": "code",
      "execution_count": null,
      "metadata": {
        "vscode": {
          "languageId": "sql"
        }
      },
      "outputs": [],
      "source": [
        "-- Resume the alert (alerts are paused by default)\n",
        "ALTER ALERT alert_low_inv RESUME;\n"
      ]
    },
    {
      "cell_type": "code",
      "execution_count": null,
      "metadata": {
        "vscode": {
          "languageId": "sql"
        }
      },
      "outputs": [],
      "source": [
        "-- Add more sales data to potentially trigger alerts\n",
        "insert into salesdata select * from table(gen_cust_purchase(10000,2));\n"
      ]
    },
    {
      "cell_type": "code",
      "execution_count": null,
      "metadata": {
        "vscode": {
          "languageId": "sql"
        }
      },
      "outputs": [],
      "source": [
        "## Monitoring Dynamic Tables\n"
      ]
    },
    {
      "cell_type": "code",
      "execution_count": null,
      "metadata": {
        "vscode": {
          "languageId": "sql"
        }
      },
      "outputs": [],
      "source": [
        "-- View current alerts status\n",
        "SHOW ALERTS;\n"
      ]
    },
    {
      "cell_type": "code",
      "execution_count": null,
      "metadata": {
        "vscode": {
          "languageId": "sql"
        }
      },
      "outputs": [],
      "source": [
        "-- Check alert execution history for the last hour\n",
        "SELECT *\n",
        "FROM\n",
        "  TABLE(INFORMATION_SCHEMA.ALERT_HISTORY(\n",
        "    SCHEDULED_TIME_RANGE_START\n",
        "      =>dateadd('hour',-1,current_timestamp())))\n",
        "WHERE\n",
        "    NAME = 'ALERT_LOW_INV'\n",
        "ORDER BY SCHEDULED_TIME DESC;\n"
      ]
    }
  ],
  "metadata": {
    "language_info": {
      "name": "python"
    }
  },
  "nbformat": 4,
  "nbformat_minor": 2
}
